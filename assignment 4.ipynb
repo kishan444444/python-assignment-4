{
 "cells": [
  {
   "cell_type": "code",
   "execution_count": null,
   "id": "07dda83b-0424-4c48-9239-52e98181a595",
   "metadata": {},
   "outputs": [],
   "source": [
    "#1What exactly is []?\n",
    "\"\"\"\n",
    "[] refer to an empty list\n",
    "\"\"\""
   ]
  },
  {
   "cell_type": "code",
   "execution_count": null,
   "id": "8f6f0077-c44d-47d2-b784-d4ea686e4f01",
   "metadata": {
    "tags": []
   },
   "outputs": [],
   "source": [
    "#2In a list of values stored in a variable called spam, how would you assign the value &#39;hello&#39; as thethird value? (Assume [2, 4, 6, 8, 10] are in spam.)\n",
    "lst=[2, 4, 6, 8, 10]\n",
    "lst.insert(2,'hello')\n",
    "print(lst)\n",
    "\n"
   ]
  },
  {
   "cell_type": "code",
   "execution_count": null,
   "id": "6e967c07-eb6e-4a16-996c-adfecf7ac715",
   "metadata": {
    "tags": []
   },
   "outputs": [],
   "source": [
    "#3What is the value of spam[int(int(\"3\" * 2) / 11)]?\n",
    "\"\"\"\n",
    "solution=[3]\n",
    "\"\"\""
   ]
  },
  {
   "cell_type": "code",
   "execution_count": null,
   "id": "9eaa6b26-5d37-45f3-90f6-0a70fcc23179",
   "metadata": {
    "tags": []
   },
   "outputs": [],
   "source": [
    "#4 list=['a','b','c','d'].What is the value of spam[-1]?\n",
    "\"\"\"\n",
    "soultion =d\n",
    "\"\"\""
   ]
  },
  {
   "cell_type": "code",
   "execution_count": null,
   "id": "fc19d241-2929-4acc-b4e1-9a177ae968b1",
   "metadata": {
    "tags": []
   },
   "outputs": [],
   "source": [
    "#5  What is the value of spam[:2]?\n",
    "\"\"\"\n",
    "solution=[a,b]\n",
    "\"\"\""
   ]
  },
  {
   "cell_type": "code",
   "execution_count": null,
   "id": "092ffefd-d77a-4a93-a594-2476261ca58a",
   "metadata": {},
   "outputs": [],
   "source": [
    "#6 bacon =[3.14, 'cat', 11, 'cat', True]\n",
    "#What is the value of bacon.index('cat')\n",
    "\"\"\"\n",
    "solution =1\n",
    "\"\"\"\n",
    "\n",
    "\n"
   ]
  },
  {
   "cell_type": "code",
   "execution_count": null,
   "id": "28e8d2b9-646d-442b-847d-8f4bb4c37d19",
   "metadata": {},
   "outputs": [],
   "source": [
    "#7 bacon =[3.14, 'cat', 11, 'cat', True]\n",
    "#How does bacon.append(99) change the look of the list value in bacon?\n",
    "\"\"\"\n",
    "solution\n",
    "bacon =[3.14, 'cat', 11, 'cat', True, 99]\n",
    "\"\"\""
   ]
  },
  {
   "cell_type": "code",
   "execution_count": null,
   "id": "dda5491a-f864-4283-bfb6-afc2f5436bae",
   "metadata": {},
   "outputs": [],
   "source": [
    "#8 How does bacon.remove('cat') change the look of the list in bacon?\n",
    "\"\"\"\n",
    "solution \n",
    "bacon=[3.14, 11, 'cat', 'True']\n",
    "\"\"\"\n"
   ]
  },
  {
   "cell_type": "code",
   "execution_count": null,
   "id": "2bd98dd1-c4a4-491a-adca-57a85d99a2b1",
   "metadata": {},
   "outputs": [],
   "source": [
    "#9 What are the list concatenation and list replication operators?\n",
    "\"\"\"\n",
    "solution\n",
    "operator for list concatenation is +, and for list replication *.\n",
    "\"\"\"\n"
   ]
  },
  {
   "cell_type": "code",
   "execution_count": null,
   "id": "b54ac3d5-e40c-4e5f-8a2d-4af55c3fdf66",
   "metadata": {},
   "outputs": [],
   "source": [
    "#10 What is difference between the list methods append() and insert()?\n",
    "\"\"\"\n",
    "insert function allows us to add a specific element at a specified index \n",
    "of the list unlike append() where we can add the element only at end of the list.\n",
    "\"\"\""
   ]
  },
  {
   "cell_type": "code",
   "execution_count": null,
   "id": "a885b5db-c01d-4caf-accd-e37751e446f7",
   "metadata": {},
   "outputs": [],
   "source": [
    "#11 What are the two methods for removing items from a list?\n",
    "\"\"\"\n",
    "solution= \n",
    "1 remove\n",
    "2 pop\n",
    "\"\"\""
   ]
  },
  {
   "cell_type": "code",
   "execution_count": null,
   "id": "07a6d344-1d79-42e9-8d75-8b48c957c54f",
   "metadata": {},
   "outputs": [],
   "source": [
    "#12 Describe how list values and string values are identical.\n",
    "\"\"\"\n",
    "Both have a length. \n",
    "The length of a sequence is the number of elements it contains.\n",
    "The length of a string is the number of characters it contains,\n",
    "and the length of a list is the number of items it contains.\n",
    "Both can be indexed."
   ]
  },
  {
   "cell_type": "code",
   "execution_count": null,
   "id": "5be8d9c6-043a-4406-8753-66dcb6aa8294",
   "metadata": {
    "tags": []
   },
   "outputs": [],
   "source": [
    "#13 What is the difference between tuples and lists?\n",
    "\"\"\"\n",
    "solution \n",
    "tuples= They are immutable \n",
    "list=they are mutable\n",
    "\"\"\""
   ]
  },
  {
   "cell_type": "code",
   "execution_count": null,
   "id": "afd349a5-978d-4d28-a1c2-9c756aa2fd92",
   "metadata": {
    "tags": []
   },
   "outputs": [],
   "source": [
    "#14  How do you type a tuple value that only contains the integer 42?\n",
    "\"\"\"\n",
    "solution:value=(42,)\n",
    "\"\"\""
   ]
  },
  {
   "cell_type": "code",
   "execution_count": null,
   "id": "95dddbcf-4dac-4507-972e-8da98ebe8048",
   "metadata": {
    "tags": []
   },
   "outputs": [],
   "source": [
    "#15. How do you get a list value tuple form? How do you get a tuple value list form?\n",
    "\"\"\"\n",
    "To convert list into tuple we use tuple() build in function\n",
    "To convert tuple into list we use list() build in function\n",
    "\n",
    "\"\"\"\n",
    "\n"
   ]
  },
  {
   "cell_type": "code",
   "execution_count": null,
   "id": "64d71f4b-8a57-460c-a9a8-025c3c287b74",
   "metadata": {},
   "outputs": [],
   "source": [
    "#16 Variables that contain list values are not necessarily lists themselves. Instead, what do theycontain?\n",
    "\"\"\"\n",
    "They contain references to list values.\n",
    "\"\"\""
   ]
  },
  {
   "cell_type": "code",
   "execution_count": null,
   "id": "faf098a2-c2c0-4d02-b16d-5ce006190447",
   "metadata": {},
   "outputs": [],
   "source": [
    "#17 How do you distinguish between copy.copy() and copy.deepcopy()?\n",
    "\"\"\"\n",
    "solution \n",
    "The copy.copy( ) function will do a shallow copy of a list,\n",
    "while the copy.deepcopy( ) function will do a deep copy of a list.\n",
    "That is, only copy.deepcopy( ) will duplicate any lists inside the list\n",
    "\"\"\"\n"
   ]
  }
 ],
 "metadata": {
  "kernelspec": {
   "display_name": "Python 3 (ipykernel)",
   "language": "python",
   "name": "python3"
  },
  "language_info": {
   "codemirror_mode": {
    "name": "ipython",
    "version": 3
   },
   "file_extension": ".py",
   "mimetype": "text/x-python",
   "name": "python",
   "nbconvert_exporter": "python",
   "pygments_lexer": "ipython3",
   "version": "3.11.5"
  }
 },
 "nbformat": 4,
 "nbformat_minor": 5
}
